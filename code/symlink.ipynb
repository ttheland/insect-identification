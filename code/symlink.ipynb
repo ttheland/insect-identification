{
 "cells": [
  {
   "cell_type": "markdown",
   "metadata": {},
   "source": [
    "## Dataset split using `os.symlink()`\n",
    "\n",
    "When working with large datasets consisting of separate files, we can manage dataset splits with symbolic links, essentially creating shortcuts to original files according to a desired split ratio.\n",
    "\n",
    "The advantage is we don't need to copy or move files around, as these operations require extra computation and memory usage.  "
   ]
  },
  {
   "cell_type": "code",
   "execution_count": 1,
   "metadata": {},
   "outputs": [
    {
     "name": "stdout",
     "output_type": "stream",
     "text": [
      "c:\\Users\\tomas\\Desktop\\ip102_v1.1\n"
     ]
    }
   ],
   "source": [
    "import os\n",
    "import matplotlib.pyplot as plt\n",
    "import pandas as pd\n",
    "\n",
    "print(os.getcwd())\n",
    "\n",
    "datapath = \"images/\""
   ]
  },
  {
   "cell_type": "code",
   "execution_count": 2,
   "metadata": {},
   "outputs": [
    {
     "name": "stdout",
     "output_type": "stream",
     "text": [
      "0\n"
     ]
    }
   ],
   "source": [
    "# read category from filename\n",
    "filename = \"0_00213.jpg\"\n",
    "category = filename.split(\"_\")[0]\n",
    "print(category)"
   ]
  },
  {
   "cell_type": "markdown",
   "metadata": {},
   "source": [
    "### Get labels"
   ]
  },
  {
   "cell_type": "code",
   "execution_count": 3,
   "metadata": {},
   "outputs": [
    {
     "data": {
      "text/plain": [
       "{0: 'rice_leaf_roller',\n",
       " 1: 'rice_leaf_caterpillar',\n",
       " 2: 'paddy_stem_maggot',\n",
       " 3: 'asiatic_rice_borer',\n",
       " 4: 'yellow_rice_borer',\n",
       " 5: 'rice_gall_midge',\n",
       " 6: 'Rice_Stemfly',\n",
       " 7: 'brown_plant_hopper',\n",
       " 8: 'white_backed_plant_hopper',\n",
       " 9: 'small_brown_plant_hopper',\n",
       " 10: 'rice_water_weevil',\n",
       " 11: 'rice_leafhopper',\n",
       " 12: 'grain_spreader_thrips',\n",
       " 13: 'rice_shell_pest',\n",
       " 14: 'grub',\n",
       " 15: 'mole_cricket',\n",
       " 16: 'wireworm',\n",
       " 17: 'white_margined_moth',\n",
       " 18: 'black_cutworm',\n",
       " 19: 'large_cutworm',\n",
       " 20: 'yellow_cutworm',\n",
       " 21: 'red_spider',\n",
       " 22: 'corn_borer',\n",
       " 23: 'army_worm',\n",
       " 24: 'aphids',\n",
       " 25: 'Potosiabre_vitarsis',\n",
       " 26: 'peach_borer',\n",
       " 27: 'english_grain_aphid',\n",
       " 28: 'green_bug',\n",
       " 29: 'bird_cherry-oataphid',\n",
       " 30: 'wheat_blossom_midge',\n",
       " 31: 'penthaleus_major',\n",
       " 32: 'longlegged_spider_mite',\n",
       " 33: 'wheat_phloeothrips',\n",
       " 34: 'wheat_sawfly',\n",
       " 35: 'cerodonta_denticornis',\n",
       " 36: 'beet_fly',\n",
       " 37: 'flea_beetle',\n",
       " 38: 'cabbage_army_worm',\n",
       " 39: 'beet_army_worm',\n",
       " 40: 'Beet_spot_flies',\n",
       " 41: 'meadow_moth',\n",
       " 42: 'beet_weevil',\n",
       " 43: 'sericaorient_alismots_chulsky',\n",
       " 44: 'alfalfa_weevil',\n",
       " 45: 'flax_budworm',\n",
       " 46: 'alfalfa_plant_bug',\n",
       " 47: 'tarnished_plant_bug',\n",
       " 48: 'Locustoidea',\n",
       " 49: 'lytta_polita',\n",
       " 50: 'legume_blister_beetle',\n",
       " 51: 'blister_beetle',\n",
       " 52: 'therioaphis_maculata_Buckton',\n",
       " 53: 'odontothrips_loti',\n",
       " 54: 'Thrips',\n",
       " 55: 'alfalfa_seed_chalcid',\n",
       " 56: 'Pieris_canidia',\n",
       " 57: 'Apolygus_lucorum',\n",
       " 58: 'Limacodidae',\n",
       " 59: 'Viteus_vitifoliae',\n",
       " 60: 'Colomerus_vitis',\n",
       " 61: 'Brevipoalpus_lewisi_McGregor',\n",
       " 62: 'oides_decempunctata',\n",
       " 63: 'Polyphagotars_onemus_latus',\n",
       " 64: 'Pseudococcus_comstocki_Kuwana',\n",
       " 65: 'parathrene_regalis',\n",
       " 66: 'Ampelophaga',\n",
       " 67: 'Lycorma_delicatula',\n",
       " 68: 'Xylotrechus',\n",
       " 69: 'Cicadella_viridis',\n",
       " 70: 'Miridae',\n",
       " 71: 'Trialeurodes_vaporariorum',\n",
       " 72: 'Erythroneura_apicalis',\n",
       " 73: 'Papilio_xuthus',\n",
       " 74: 'Panonchus_citri_McGregor',\n",
       " 75: 'Phyllocoptes_oleiverus_ashmead',\n",
       " 76: 'Icerya_purchasi_Maskell',\n",
       " 77: 'Unaspis_yanonensis',\n",
       " 78: 'Ceroplastes_rubens',\n",
       " 79: 'Chrysomphalus_aonidum',\n",
       " 80: 'Parlatoria_zizyphus_Lucus',\n",
       " 81: 'Nipaecoccus_vastalor',\n",
       " 82: 'Aleurocanthus_spiniferus',\n",
       " 83: 'Tetradacus_c_Bactrocera_minax',\n",
       " 84: 'Dacus_dorsalis(Hendel)',\n",
       " 85: 'Bactrocera_tsuneonis',\n",
       " 86: 'Prodenia_litura',\n",
       " 87: 'Adristyrannus',\n",
       " 88: 'Phyllocnistis_citrella_Stainton',\n",
       " 89: 'Toxoptera_citricidus',\n",
       " 90: 'Toxoptera_aurantii',\n",
       " 91: 'Aphis_citricola_Vander_Goot',\n",
       " 92: 'Scirtothrips_dorsalis_Hood',\n",
       " 93: 'Dasineura_sp',\n",
       " 94: 'Lawana_imitata_Melichar',\n",
       " 95: 'Salurnis_marginella_Guerr',\n",
       " 96: 'Deporaus_marginatus_Pascoe',\n",
       " 97: 'Chlumetia_transversa',\n",
       " 98: 'Mango_flat_beak_leafhopper',\n",
       " 99: 'Rhytidodera_bowrinii_white',\n",
       " 100: 'Sternochetus_frigidus',\n",
       " 101: 'Cicadellidae'}"
      ]
     },
     "execution_count": 3,
     "metadata": {},
     "output_type": "execute_result"
    }
   ],
   "source": [
    "# read in `classes.txt.txt` with proper class names into a dict.\n",
    "# these could do with a bit of sanitation.\n",
    "labels = {}\n",
    "\n",
    "with open('classes.txt.txt') as f:\n",
    "    for line in f:\n",
    "        # remove lead/trailing whitespace \n",
    "        stripped = line.strip()\n",
    "        # collect the parts of the names together with *\n",
    "        head, *rest = stripped.split()\n",
    "\n",
    "        # we can do -1 here since our images are classed 0-101\n",
    "        key = int(head) -1\n",
    "        \n",
    "        val = rest\n",
    "        # join the names with an underscore\n",
    "        labels[key] = '_'.join(val)\n",
    "\n",
    "labels"
   ]
  },
  {
   "cell_type": "code",
   "execution_count": 6,
   "metadata": {},
   "outputs": [
    {
     "data": {
      "text/plain": [
       "{0: 'rice_leaf_roller',\n",
       " 1: 'rice_leaf_caterpillar',\n",
       " 2: 'paddy_stem_maggot',\n",
       " 3: 'asiatic_rice_borer',\n",
       " 4: 'yellow_rice_borer',\n",
       " 5: 'rice_gall_midge',\n",
       " 6: 'Rice_Stemfly',\n",
       " 7: 'brown_plant_hopper',\n",
       " 8: 'white_backed_plant_hopper',\n",
       " 9: 'small_brown_plant_hopper',\n",
       " 10: 'rice_water_weevil',\n",
       " 11: 'rice_leafhopper',\n",
       " 12: 'grain_spreader_thrips',\n",
       " 13: 'rice_shell_pest',\n",
       " 14: 'grub',\n",
       " 15: 'mole_cricket',\n",
       " 16: 'wireworm',\n",
       " 17: 'white_margined_moth',\n",
       " 18: 'black_cutworm',\n",
       " 19: 'large_cutworm',\n",
       " 20: 'yellow_cutworm',\n",
       " 21: 'red_spider',\n",
       " 22: 'corn_borer',\n",
       " 23: 'army_worm',\n",
       " 24: 'aphids',\n",
       " 25: 'Potosiabre_vitarsis',\n",
       " 26: 'peach_borer',\n",
       " 27: 'english_grain_aphid',\n",
       " 28: 'green_bug',\n",
       " 29: 'bird_cherry-oataphid',\n",
       " 30: 'wheat_blossom_midge',\n",
       " 31: 'penthaleus_major',\n",
       " 32: 'longlegged_spider_mite',\n",
       " 33: 'wheat_phloeothrips',\n",
       " 34: 'wheat_sawfly',\n",
       " 35: 'cerodonta_denticornis',\n",
       " 36: 'beet_fly',\n",
       " 37: 'flea_beetle',\n",
       " 38: 'cabbage_army_worm',\n",
       " 39: 'beet_army_worm',\n",
       " 40: 'Beet_spot_flies',\n",
       " 41: 'meadow_moth',\n",
       " 42: 'beet_weevil',\n",
       " 43: 'sericaorient_alismots_chulsky',\n",
       " 44: 'alfalfa_weevil',\n",
       " 45: 'flax_budworm',\n",
       " 46: 'alfalfa_plant_bug',\n",
       " 47: 'tarnished_plant_bug',\n",
       " 48: 'Locustoidea',\n",
       " 49: 'lytta_polita',\n",
       " 50: 'legume_blister_beetle',\n",
       " 51: 'blister_beetle',\n",
       " 52: 'therioaphis_maculata_Buckton',\n",
       " 53: 'odontothrips_loti',\n",
       " 54: 'Thrips',\n",
       " 55: 'alfalfa_seed_chalcid',\n",
       " 56: 'Pieris_canidia',\n",
       " 57: 'Apolygus_lucorum',\n",
       " 58: 'Limacodidae',\n",
       " 59: 'Viteus_vitifoliae',\n",
       " 60: 'Colomerus_vitis',\n",
       " 61: 'Brevipoalpus_lewisi_McGregor',\n",
       " 62: 'oides_decempunctata',\n",
       " 63: 'Polyphagotars_onemus_latus',\n",
       " 64: 'Pseudococcus_comstocki_Kuwana',\n",
       " 65: 'parathrene_regalis',\n",
       " 66: 'Ampelophaga',\n",
       " 67: 'Lycorma_delicatula',\n",
       " 68: 'Xylotrechus',\n",
       " 69: 'Cicadella_viridis',\n",
       " 70: 'Miridae',\n",
       " 71: 'Trialeurodes_vaporariorum',\n",
       " 72: 'Erythroneura_apicalis',\n",
       " 73: 'Papilio_xuthus',\n",
       " 74: 'Panonchus_citri_McGregor',\n",
       " 75: 'Phyllocoptes_oleiverus_ashmead',\n",
       " 76: 'Icerya_purchasi_Maskell',\n",
       " 77: 'Unaspis_yanonensis',\n",
       " 78: 'Ceroplastes_rubens',\n",
       " 79: 'Chrysomphalus_aonidum',\n",
       " 80: 'Parlatoria_zizyphus_Lucus',\n",
       " 81: 'Nipaecoccus_vastalor',\n",
       " 82: 'Aleurocanthus_spiniferus',\n",
       " 83: 'Tetradacus_c_Bactrocera_minax',\n",
       " 84: 'Dacus_dorsalis(Hendel)',\n",
       " 85: 'Bactrocera_tsuneonis',\n",
       " 86: 'Prodenia_litura',\n",
       " 87: 'Adristyrannus',\n",
       " 88: 'Phyllocnistis_citrella_Stainton',\n",
       " 89: 'Toxoptera_citricidus',\n",
       " 90: 'Toxoptera_aurantii',\n",
       " 91: 'Aphis_citricola_Vander_Goot',\n",
       " 92: 'Scirtothrips_dorsalis_Hood',\n",
       " 93: 'Dasineura_sp',\n",
       " 94: 'Lawana_imitata_Melichar',\n",
       " 95: 'Salurnis_marginella_Guerr',\n",
       " 96: 'Deporaus_marginatus_Pascoe',\n",
       " 97: 'Chlumetia_transversa',\n",
       " 98: 'Mango_flat_beak_leafhopper',\n",
       " 99: 'Rhytidodera_bowrinii_white',\n",
       " 100: 'Sternochetus_frigidus',\n",
       " 101: 'Cicadellidae'}"
      ]
     },
     "execution_count": 6,
     "metadata": {},
     "output_type": "execute_result"
    }
   ],
   "source": [
    "# alternatively the dictionary comprehension way\n",
    "with open(\"classes.txt.txt\") as f:\n",
    "    a = {int(k)-1: '_'.join(v.split()) for line in f for (k,v) in [line.strip().split(None, 1)]}\n",
    "a"
   ]
  },
  {
   "cell_type": "markdown",
   "metadata": {},
   "source": [
    "### Data exploration & split "
   ]
  },
  {
   "cell_type": "markdown",
   "metadata": {},
   "source": [
    "- read original splits from .csvs and select matching filenames\n",
    "- custom split:\n",
    "    * get lengths of each class subset (# of samples per label)\n",
    "    * "
   ]
  },
  {
   "cell_type": "code",
   "execution_count": 29,
   "metadata": {},
   "outputs": [
    {
     "name": "stdout",
     "output_type": "stream",
     "text": [
      "75222\n",
      "0_00000.jpg 9_06574.jpg\n"
     ]
    }
   ],
   "source": [
    "# https://github.com/MLWhiz/data_science_blogs/blob/master/compvisblog/Boats_DataExploration.ipynb\n",
    "\n",
    "# print(labels)\n",
    "\n",
    "file_list = []\n",
    "for (dirpath, dirnames, filenames) in os.walk(datapath):\n",
    "    file_list.extend(filenames)\n",
    "\n",
    "\n",
    "# or\n",
    "images = []\n",
    "for image in os.listdir(datapath):\n",
    "    images.append(image)\n",
    "\n",
    "print(len(images))\n",
    "print(images[0], images[-1])"
   ]
  },
  {
   "cell_type": "code",
   "execution_count": 35,
   "metadata": {},
   "outputs": [],
   "source": [
    "images = {}\n",
    "for image in os.listdir(datapath):\n",
    "    category = image.split(\"_\")[0]\n",
    "    images[image] = category"
   ]
  },
  {
   "cell_type": "code",
   "execution_count": null,
   "metadata": {},
   "outputs": [],
   "source": [
    "# make dataframe with filenames, class id, and label \n"
   ]
  },
  {
   "cell_type": "code",
   "execution_count": 13,
   "metadata": {},
   "outputs": [],
   "source": [
    "# Load the paths to the images in a directory\n",
    "\n",
    "def load_images_from_folder(folder,only_path = False, label = \"\"):\n",
    "    if only_path == False:\n",
    "        images = []\n",
    "        file_name=[]\n",
    "        for filename in os.listdir(folder):\n",
    "            img = plt.imread(os.path.join(folder,filename))\n",
    "            \n",
    "            if img is not None:\n",
    "                end=filename.find(\".\")\n",
    "                file_name.append(file[0:end])\n",
    "                images.append(img)\n",
    "                \n",
    "        return images, file_name\n",
    "    else:\n",
    "        path = []\n",
    "        for filename in os.listdir(folder):\n",
    "            img_path = os.path.join(folder,filename)\n",
    "            if img_path is not None:\n",
    "                path.append([label,img_path])\n",
    "        return path"
   ]
  },
  {
   "cell_type": "code",
   "execution_count": 15,
   "metadata": {},
   "outputs": [
    {
     "ename": "NameError",
     "evalue": "name 'file' is not defined",
     "output_type": "error",
     "traceback": [
      "\u001b[1;31m---------------------------------------------------------------------------\u001b[0m",
      "\u001b[1;31mNameError\u001b[0m                                 Traceback (most recent call last)",
      "\u001b[1;32m~\\AppData\\Local\\Temp/ipykernel_20368/3244678305.py\u001b[0m in \u001b[0;36m<module>\u001b[1;34m\u001b[0m\n\u001b[0;32m      3\u001b[0m \u001b[0mpath\u001b[0m \u001b[1;33m=\u001b[0m \u001b[0mdatapath\u001b[0m\u001b[1;33m\u001b[0m\u001b[1;33m\u001b[0m\u001b[0m\n\u001b[0;32m      4\u001b[0m \u001b[1;32mfor\u001b[0m \u001b[0mf\u001b[0m \u001b[1;32min\u001b[0m \u001b[0mos\u001b[0m\u001b[1;33m.\u001b[0m\u001b[0mlistdir\u001b[0m\u001b[1;33m(\u001b[0m\u001b[0mpath\u001b[0m\u001b[1;33m)\u001b[0m\u001b[1;33m:\u001b[0m\u001b[1;33m\u001b[0m\u001b[1;33m\u001b[0m\u001b[0m\n\u001b[1;32m----> 5\u001b[1;33m     \u001b[0mimages\u001b[0m \u001b[1;33m+=\u001b[0m \u001b[0mload_images_from_folder\u001b[0m\u001b[1;33m(\u001b[0m\u001b[0mpath\u001b[0m\u001b[1;33m,\u001b[0m\u001b[1;32mFalse\u001b[0m\u001b[1;33m,\u001b[0m\u001b[0mlabel\u001b[0m \u001b[1;33m=\u001b[0m \u001b[0mf\u001b[0m\u001b[1;33m)\u001b[0m\u001b[1;33m\u001b[0m\u001b[1;33m\u001b[0m\u001b[0m\n\u001b[0m\u001b[0;32m      6\u001b[0m \u001b[1;33m\u001b[0m\u001b[0m\n\u001b[0;32m      7\u001b[0m \u001b[1;31m# Create a dataframe with the paths and the label for each insect\u001b[0m\u001b[1;33m\u001b[0m\u001b[1;33m\u001b[0m\u001b[1;33m\u001b[0m\u001b[0m\n",
      "\u001b[1;32m~\\AppData\\Local\\Temp/ipykernel_20368/528251151.py\u001b[0m in \u001b[0;36mload_images_from_folder\u001b[1;34m(folder, only_path, label)\u001b[0m\n\u001b[0;32m     10\u001b[0m             \u001b[1;32mif\u001b[0m \u001b[0mimg\u001b[0m \u001b[1;32mis\u001b[0m \u001b[1;32mnot\u001b[0m \u001b[1;32mNone\u001b[0m\u001b[1;33m:\u001b[0m\u001b[1;33m\u001b[0m\u001b[1;33m\u001b[0m\u001b[0m\n\u001b[0;32m     11\u001b[0m                 \u001b[0mend\u001b[0m\u001b[1;33m=\u001b[0m\u001b[0mfilename\u001b[0m\u001b[1;33m.\u001b[0m\u001b[0mfind\u001b[0m\u001b[1;33m(\u001b[0m\u001b[1;34m\".\"\u001b[0m\u001b[1;33m)\u001b[0m\u001b[1;33m\u001b[0m\u001b[1;33m\u001b[0m\u001b[0m\n\u001b[1;32m---> 12\u001b[1;33m                 \u001b[0mfile_name\u001b[0m\u001b[1;33m.\u001b[0m\u001b[0mappend\u001b[0m\u001b[1;33m(\u001b[0m\u001b[0mfile\u001b[0m\u001b[1;33m[\u001b[0m\u001b[1;36m0\u001b[0m\u001b[1;33m:\u001b[0m\u001b[0mend\u001b[0m\u001b[1;33m]\u001b[0m\u001b[1;33m)\u001b[0m\u001b[1;33m\u001b[0m\u001b[1;33m\u001b[0m\u001b[0m\n\u001b[0m\u001b[0;32m     13\u001b[0m                 \u001b[0mimages\u001b[0m\u001b[1;33m.\u001b[0m\u001b[0mappend\u001b[0m\u001b[1;33m(\u001b[0m\u001b[0mimg\u001b[0m\u001b[1;33m)\u001b[0m\u001b[1;33m\u001b[0m\u001b[1;33m\u001b[0m\u001b[0m\n\u001b[0;32m     14\u001b[0m \u001b[1;33m\u001b[0m\u001b[0m\n",
      "\u001b[1;31mNameError\u001b[0m: name 'file' is not defined"
     ]
    }
   ],
   "source": [
    "# Load the paths on the images\n",
    "images = []\n",
    "path = datapath\n",
    "for f in os.listdir(path):\n",
    "    images += load_images_from_folder(path,False,label = f)      \n",
    "                        \n",
    "# Create a dataframe with the paths and the label for each insect\n",
    "df1 = pd.DataFrame(images, columns = [\"insect_gbif\", \"path_img\"])\n",
    "\n",
    "file_name=[]\n",
    "for i in range(len(df1[\"path_img\"])):\n",
    "    temp=df1.path_img[i].split('/')[-1].split('.')[0]\n",
    "    file_name.append(temp)\n",
    "file_name\n",
    "\n",
    "df1['file_name'] = file_name\n",
    "display(df1.describe())\n",
    "\n",
    "display(df1)\n"
   ]
  },
  {
   "cell_type": "markdown",
   "metadata": {},
   "source": [
    "### creating symlinks"
   ]
  },
  {
   "cell_type": "code",
   "execution_count": 4,
   "metadata": {},
   "outputs": [],
   "source": [
    "# create folder structure to hold split sets\n",
    "dataset = \"split/\"\n",
    "#os.mkdir(dataset)\n",
    "\n",
    "dirs = [\"train\", \"test\", \"val\"]\n",
    "\n",
    "train_path = os.path.join(dataset, \"train\")\n",
    "val_path = os.path.join(dataset, \"val\")\n",
    "test_path = os.path.join(dataset, \"test\")\n",
    "\n",
    "##os.mkdir(train_path)\n",
    "#os.mkdir(val_path)\n",
    "#os.mkdir(test_path)"
   ]
  },
  {
   "cell_type": "markdown",
   "metadata": {},
   "source": [
    "- Make folders for each class in each dataset folder\n",
    "- read in the original train/val/test split csvs\n",
    "- using `os.symlink()`, add links to original files in corresponding class folder in each dataset folder"
   ]
  },
  {
   "cell_type": "markdown",
   "metadata": {},
   "source": [
    "functionalised making of symlinks\n",
    "\n",
    "- (locally tested) Now properly creates split/phase/class folders in the right place and symlink for provided source file.\n",
    "\n",
    "- `create_link(src, phase)`\n",
    "-  `src` being an absolute path, `phase` being a string of 'train', 'val' or 'test'"
   ]
  },
  {
   "cell_type": "code",
   "execution_count": 27,
   "metadata": {},
   "outputs": [
    {
     "name": "stdout",
     "output_type": "stream",
     "text": [
      "source exists\n",
      "base_path:  split\n",
      "0\n",
      "class index of source: 0, labelname: rice_leaf_roller\n",
      "phase path: 'split\\train'\n",
      "making phase directory...\n",
      "dest folder path: split\\train\\rice_leaf_roller, is abs: False\n",
      "making class directory...\n",
      "link path: split\\train\\rice_leaf_roller\\0_00005.jpg\n",
      "making symlink at split\\train\\rice_leaf_roller\\0_00005.jpg\n"
     ]
    }
   ],
   "source": [
    "dataset = \"split/\"\n",
    "os.mkdir(dataset)\n",
    "src_abs = os.path.abspath(src)\n",
    "\n",
    "\n",
    "def create_link(src, phase):\n",
    "\n",
    "    # check src\n",
    "    if os.path.isfile(src):\n",
    "        print('source exists')\n",
    "        base_path = os.path.relpath(dataset)\n",
    "\n",
    "        print(\"base_path: \", base_path)\n",
    "        \n",
    "        \n",
    "        # determine class index from filename\n",
    "        head_tail = os.path.split(src)\n",
    "\n",
    "        label_index = int(head_tail[1].split('_')[0])\n",
    "        print(label_index)\n",
    "\n",
    "        img_filename_only = head_tail[1]\n",
    "\n",
    "        labelname = labels[label_index]\n",
    "        print('class index of source: {}, labelname: {}'.format(label_index, labelname))\n",
    "        phase_path = os.path.join(base_path, phase)\n",
    "        print(\"phase path: '%s'\" % phase_path)\n",
    "\n",
    "        # if phase path doesn't exist, it needs to be made\n",
    "        if not os.path.isdir(phase_path):\n",
    "            print(\"making phase directory...\")\n",
    "            os.mkdir(phase_path)\n",
    "\n",
    "        dest_folder_path = os.path.join(phase_path, labelname)\n",
    "        print(\"dest folder path: {}, is abs: {}\".format(dest_folder_path, os.path.isabs(dest_folder_path)))\n",
    "\n",
    "        # if destination folder doesn't exist, make it\n",
    "        if not os.path.exists(dest_folder_path):\n",
    "             print(\"making class directory...\")\n",
    "             os.mkdir(dest_folder_path)\n",
    "        \n",
    "        # create destination path\n",
    "        link_path = os.path.join(dest_folder_path, img_filename_only)\n",
    "        link_path = os.path.relpath(link_path)\n",
    "        print(\"link path:\", link_path)\n",
    "        \n",
    "        # make link\n",
    "        print(\"making symlink at\", link_path)\n",
    "        os.symlink(src, link_path)\n",
    "        \n",
    "\n",
    "    else:\n",
    "        print('src file not found')\n",
    "\n",
    "\n",
    "create_link(src_abs, \"train\")"
   ]
  },
  {
   "cell_type": "code",
   "execution_count": null,
   "metadata": {},
   "outputs": [],
   "source": []
  }
 ],
 "metadata": {
  "interpreter": {
   "hash": "c8d98a4d7b21855fa83e9651ffe8cf94119fccfa842c954a5ce564f04fa47355"
  },
  "kernelspec": {
   "display_name": "Python 3.9.5 64-bit",
   "language": "python",
   "name": "python3"
  },
  "language_info": {
   "codemirror_mode": {
    "name": "ipython",
    "version": 3
   },
   "file_extension": ".py",
   "mimetype": "text/x-python",
   "name": "python",
   "nbconvert_exporter": "python",
   "pygments_lexer": "ipython3",
   "version": "3.8.8"
  },
  "orig_nbformat": 4
 },
 "nbformat": 4,
 "nbformat_minor": 2
}
