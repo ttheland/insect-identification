{
 "cells": [
  {
   "cell_type": "markdown",
   "metadata": {},
   "source": [
    "## Dataset split using `os.symlink()`\n",
    "\n",
    "When working with large datasets consisting of separate files, we can manage dataset splits with symbolic links, essentially creating shortcuts to original files according to a desired split ratio.\n",
    "\n",
    "The advantage is we don't need to copy or move files around, as these operations require extra computation and memory usage.  "
   ]
  },
  {
   "cell_type": "code",
   "execution_count": 1,
   "metadata": {},
   "outputs": [
    {
     "name": "stdout",
     "output_type": "stream",
     "text": [
      "c:\\Users\\tomas\\Desktop\\ip102_v1.1\n"
     ]
    }
   ],
   "source": [
    "import os\n",
    "\n",
    "print(os.getcwd())\n",
    "\n",
    "datapath = \"images/\""
   ]
  },
  {
   "cell_type": "code",
   "execution_count": 2,
   "metadata": {},
   "outputs": [
    {
     "name": "stdout",
     "output_type": "stream",
     "text": [
      "0\n"
     ]
    }
   ],
   "source": [
    "# read category from filename\n",
    "filename = \"0_00213.jpg\"\n",
    "category = filename.split(\"_\")[0]\n",
    "print(category)"
   ]
  },
  {
   "cell_type": "markdown",
   "metadata": {},
   "source": [
    "### Get labels"
   ]
  },
  {
   "cell_type": "code",
   "execution_count": 3,
   "metadata": {},
   "outputs": [
    {
     "data": {
      "text/plain": [
       "{0: 'rice_leaf_roller',\n",
       " 1: 'rice_leaf_caterpillar',\n",
       " 2: 'paddy_stem_maggot',\n",
       " 3: 'asiatic_rice_borer',\n",
       " 4: 'yellow_rice_borer',\n",
       " 5: 'rice_gall_midge',\n",
       " 6: 'Rice_Stemfly',\n",
       " 7: 'brown_plant_hopper',\n",
       " 8: 'white_backed_plant_hopper',\n",
       " 9: 'small_brown_plant_hopper',\n",
       " 10: 'rice_water_weevil',\n",
       " 11: 'rice_leafhopper',\n",
       " 12: 'grain_spreader_thrips',\n",
       " 13: 'rice_shell_pest',\n",
       " 14: 'grub',\n",
       " 15: 'mole_cricket',\n",
       " 16: 'wireworm',\n",
       " 17: 'white_margined_moth',\n",
       " 18: 'black_cutworm',\n",
       " 19: 'large_cutworm',\n",
       " 20: 'yellow_cutworm',\n",
       " 21: 'red_spider',\n",
       " 22: 'corn_borer',\n",
       " 23: 'army_worm',\n",
       " 24: 'aphids',\n",
       " 25: 'Potosiabre_vitarsis',\n",
       " 26: 'peach_borer',\n",
       " 27: 'english_grain_aphid',\n",
       " 28: 'green_bug',\n",
       " 29: 'bird_cherry-oataphid',\n",
       " 30: 'wheat_blossom_midge',\n",
       " 31: 'penthaleus_major',\n",
       " 32: 'longlegged_spider_mite',\n",
       " 33: 'wheat_phloeothrips',\n",
       " 34: 'wheat_sawfly',\n",
       " 35: 'cerodonta_denticornis',\n",
       " 36: 'beet_fly',\n",
       " 37: 'flea_beetle',\n",
       " 38: 'cabbage_army_worm',\n",
       " 39: 'beet_army_worm',\n",
       " 40: 'Beet_spot_flies',\n",
       " 41: 'meadow_moth',\n",
       " 42: 'beet_weevil',\n",
       " 43: 'sericaorient_alismots_chulsky',\n",
       " 44: 'alfalfa_weevil',\n",
       " 45: 'flax_budworm',\n",
       " 46: 'alfalfa_plant_bug',\n",
       " 47: 'tarnished_plant_bug',\n",
       " 48: 'Locustoidea',\n",
       " 49: 'lytta_polita',\n",
       " 50: 'legume_blister_beetle',\n",
       " 51: 'blister_beetle',\n",
       " 52: 'therioaphis_maculata_Buckton',\n",
       " 53: 'odontothrips_loti',\n",
       " 54: 'Thrips',\n",
       " 55: 'alfalfa_seed_chalcid',\n",
       " 56: 'Pieris_canidia',\n",
       " 57: 'Apolygus_lucorum',\n",
       " 58: 'Limacodidae',\n",
       " 59: 'Viteus_vitifoliae',\n",
       " 60: 'Colomerus_vitis',\n",
       " 61: 'Brevipoalpus_lewisi_McGregor',\n",
       " 62: 'oides_decempunctata',\n",
       " 63: 'Polyphagotars_onemus_latus',\n",
       " 64: 'Pseudococcus_comstocki_Kuwana',\n",
       " 65: 'parathrene_regalis',\n",
       " 66: 'Ampelophaga',\n",
       " 67: 'Lycorma_delicatula',\n",
       " 68: 'Xylotrechus',\n",
       " 69: 'Cicadella_viridis',\n",
       " 70: 'Miridae',\n",
       " 71: 'Trialeurodes_vaporariorum',\n",
       " 72: 'Erythroneura_apicalis',\n",
       " 73: 'Papilio_xuthus',\n",
       " 74: 'Panonchus_citri_McGregor',\n",
       " 75: 'Phyllocoptes_oleiverus_ashmead',\n",
       " 76: 'Icerya_purchasi_Maskell',\n",
       " 77: 'Unaspis_yanonensis',\n",
       " 78: 'Ceroplastes_rubens',\n",
       " 79: 'Chrysomphalus_aonidum',\n",
       " 80: 'Parlatoria_zizyphus_Lucus',\n",
       " 81: 'Nipaecoccus_vastalor',\n",
       " 82: 'Aleurocanthus_spiniferus',\n",
       " 83: 'Tetradacus_c_Bactrocera_minax',\n",
       " 84: 'Dacus_dorsalis(Hendel)',\n",
       " 85: 'Bactrocera_tsuneonis',\n",
       " 86: 'Prodenia_litura',\n",
       " 87: 'Adristyrannus',\n",
       " 88: 'Phyllocnistis_citrella_Stainton',\n",
       " 89: 'Toxoptera_citricidus',\n",
       " 90: 'Toxoptera_aurantii',\n",
       " 91: 'Aphis_citricola_Vander_Goot',\n",
       " 92: 'Scirtothrips_dorsalis_Hood',\n",
       " 93: 'Dasineura_sp',\n",
       " 94: 'Lawana_imitata_Melichar',\n",
       " 95: 'Salurnis_marginella_Guerr',\n",
       " 96: 'Deporaus_marginatus_Pascoe',\n",
       " 97: 'Chlumetia_transversa',\n",
       " 98: 'Mango_flat_beak_leafhopper',\n",
       " 99: 'Rhytidodera_bowrinii_white',\n",
       " 100: 'Sternochetus_frigidus',\n",
       " 101: 'Cicadellidae'}"
      ]
     },
     "execution_count": 3,
     "metadata": {},
     "output_type": "execute_result"
    }
   ],
   "source": [
    "# read in `classes.txt.txt` with proper class names into a dict.\n",
    "# these could do with a bit of sanitation.\n",
    "labels = {}\n",
    "\n",
    "with open('classes.txt.txt') as f:\n",
    "    for line in f:\n",
    "        # remove lead/trailing whitespace \n",
    "        stripped = line.strip()\n",
    "        # collect the parts of the names together with *\n",
    "        head, *rest = stripped.split()\n",
    "\n",
    "        # we can do -1 here since our images are classed 0-101\n",
    "        key = int(head) -1\n",
    "        \n",
    "        val = rest\n",
    "        # join the names with an underscore\n",
    "        labels[key] = '_'.join(val)\n",
    "\n",
    "labels"
   ]
  },
  {
   "cell_type": "code",
   "execution_count": 5,
   "metadata": {},
   "outputs": [
    {
     "data": {
      "text/plain": [
       "{0: 'rice_leaf_roller',\n",
       " 1: 'rice_leaf_caterpillar',\n",
       " 2: 'paddy_stem_maggot',\n",
       " 3: 'asiatic_rice_borer',\n",
       " 4: 'yellow_rice_borer',\n",
       " 5: 'rice_gall_midge',\n",
       " 6: 'Rice_Stemfly',\n",
       " 7: 'brown_plant_hopper',\n",
       " 8: 'white_backed_plant_hopper',\n",
       " 9: 'small_brown_plant_hopper',\n",
       " 10: 'rice_water_weevil',\n",
       " 11: 'rice_leafhopper',\n",
       " 12: 'grain_spreader_thrips',\n",
       " 13: 'rice_shell_pest',\n",
       " 14: 'grub',\n",
       " 15: 'mole_cricket',\n",
       " 16: 'wireworm',\n",
       " 17: 'white_margined_moth',\n",
       " 18: 'black_cutworm',\n",
       " 19: 'large_cutworm',\n",
       " 20: 'yellow_cutworm',\n",
       " 21: 'red_spider',\n",
       " 22: 'corn_borer',\n",
       " 23: 'army_worm',\n",
       " 24: 'aphids',\n",
       " 25: 'Potosiabre_vitarsis',\n",
       " 26: 'peach_borer',\n",
       " 27: 'english_grain_aphid',\n",
       " 28: 'green_bug',\n",
       " 29: 'bird_cherry-oataphid',\n",
       " 30: 'wheat_blossom_midge',\n",
       " 31: 'penthaleus_major',\n",
       " 32: 'longlegged_spider_mite',\n",
       " 33: 'wheat_phloeothrips',\n",
       " 34: 'wheat_sawfly',\n",
       " 35: 'cerodonta_denticornis',\n",
       " 36: 'beet_fly',\n",
       " 37: 'flea_beetle',\n",
       " 38: 'cabbage_army_worm',\n",
       " 39: 'beet_army_worm',\n",
       " 40: 'Beet_spot_flies',\n",
       " 41: 'meadow_moth',\n",
       " 42: 'beet_weevil',\n",
       " 43: 'sericaorient_alismots_chulsky',\n",
       " 44: 'alfalfa_weevil',\n",
       " 45: 'flax_budworm',\n",
       " 46: 'alfalfa_plant_bug',\n",
       " 47: 'tarnished_plant_bug',\n",
       " 48: 'Locustoidea',\n",
       " 49: 'lytta_polita',\n",
       " 50: 'legume_blister_beetle',\n",
       " 51: 'blister_beetle',\n",
       " 52: 'therioaphis_maculata_Buckton',\n",
       " 53: 'odontothrips_loti',\n",
       " 54: 'Thrips',\n",
       " 55: 'alfalfa_seed_chalcid',\n",
       " 56: 'Pieris_canidia',\n",
       " 57: 'Apolygus_lucorum',\n",
       " 58: 'Limacodidae',\n",
       " 59: 'Viteus_vitifoliae',\n",
       " 60: 'Colomerus_vitis',\n",
       " 61: 'Brevipoalpus_lewisi_McGregor',\n",
       " 62: 'oides_decempunctata',\n",
       " 63: 'Polyphagotars_onemus_latus',\n",
       " 64: 'Pseudococcus_comstocki_Kuwana',\n",
       " 65: 'parathrene_regalis',\n",
       " 66: 'Ampelophaga',\n",
       " 67: 'Lycorma_delicatula',\n",
       " 68: 'Xylotrechus',\n",
       " 69: 'Cicadella_viridis',\n",
       " 70: 'Miridae',\n",
       " 71: 'Trialeurodes_vaporariorum',\n",
       " 72: 'Erythroneura_apicalis',\n",
       " 73: 'Papilio_xuthus',\n",
       " 74: 'Panonchus_citri_McGregor',\n",
       " 75: 'Phyllocoptes_oleiverus_ashmead',\n",
       " 76: 'Icerya_purchasi_Maskell',\n",
       " 77: 'Unaspis_yanonensis',\n",
       " 78: 'Ceroplastes_rubens',\n",
       " 79: 'Chrysomphalus_aonidum',\n",
       " 80: 'Parlatoria_zizyphus_Lucus',\n",
       " 81: 'Nipaecoccus_vastalor',\n",
       " 82: 'Aleurocanthus_spiniferus',\n",
       " 83: 'Tetradacus_c_Bactrocera_minax',\n",
       " 84: 'Dacus_dorsalis(Hendel)',\n",
       " 85: 'Bactrocera_tsuneonis',\n",
       " 86: 'Prodenia_litura',\n",
       " 87: 'Adristyrannus',\n",
       " 88: 'Phyllocnistis_citrella_Stainton',\n",
       " 89: 'Toxoptera_citricidus',\n",
       " 90: 'Toxoptera_aurantii',\n",
       " 91: 'Aphis_citricola_Vander_Goot',\n",
       " 92: 'Scirtothrips_dorsalis_Hood',\n",
       " 93: 'Dasineura_sp',\n",
       " 94: 'Lawana_imitata_Melichar',\n",
       " 95: 'Salurnis_marginella_Guerr',\n",
       " 96: 'Deporaus_marginatus_Pascoe',\n",
       " 97: 'Chlumetia_transversa',\n",
       " 98: 'Mango_flat_beak_leafhopper',\n",
       " 99: 'Rhytidodera_bowrinii_white',\n",
       " 100: 'Sternochetus_frigidus',\n",
       " 101: 'Cicadellidae'}"
      ]
     },
     "execution_count": 5,
     "metadata": {},
     "output_type": "execute_result"
    }
   ],
   "source": [
    "# alternatively the dictionary comprehension way\n",
    "with open(\"classes.txt.txt\") as f:\n",
    "    a = {int(k)-1: '_'.join(v.split()) for line in f for (k,v) in [line.strip().split(None, 1)]}\n",
    "a"
   ]
  },
  {
   "cell_type": "markdown",
   "metadata": {},
   "source": [
    "### splitting dataset with pandas and sklearn\n"
   ]
  },
  {
   "cell_type": "code",
   "execution_count": 5,
   "metadata": {},
   "outputs": [
    {
     "ename": "FileNotFoundError",
     "evalue": "Couldn't find any class folder in images/.",
     "output_type": "error",
     "traceback": [
      "\u001b[1;31m---------------------------------------------------------------------------\u001b[0m",
      "\u001b[1;31mFileNotFoundError\u001b[0m                         Traceback (most recent call last)",
      "\u001b[1;32m~\\AppData\\Local\\Temp/ipykernel_12952/3607045533.py\u001b[0m in \u001b[0;36m<module>\u001b[1;34m\u001b[0m\n\u001b[0;32m     13\u001b[0m     \u001b[1;32mreturn\u001b[0m \u001b[0mdatasets\u001b[0m\u001b[1;33m\u001b[0m\u001b[1;33m\u001b[0m\u001b[0m\n\u001b[0;32m     14\u001b[0m \u001b[1;33m\u001b[0m\u001b[0m\n\u001b[1;32m---> 15\u001b[1;33m \u001b[0mdataset\u001b[0m \u001b[1;33m=\u001b[0m \u001b[0mImageFolder\u001b[0m\u001b[1;33m(\u001b[0m\u001b[0mdatapath\u001b[0m\u001b[1;33m)\u001b[0m\u001b[1;33m\u001b[0m\u001b[1;33m\u001b[0m\u001b[0m\n\u001b[0m\u001b[0;32m     16\u001b[0m \u001b[0mprint\u001b[0m\u001b[1;33m(\u001b[0m\u001b[0mlen\u001b[0m\u001b[1;33m(\u001b[0m\u001b[0mdataset\u001b[0m\u001b[1;33m)\u001b[0m\u001b[1;33m)\u001b[0m\u001b[1;33m\u001b[0m\u001b[1;33m\u001b[0m\u001b[0m\n\u001b[0;32m     17\u001b[0m \u001b[0mdatasets\u001b[0m \u001b[1;33m=\u001b[0m \u001b[0mtrain_val_dataset\u001b[0m\u001b[1;33m(\u001b[0m\u001b[0mdataset\u001b[0m\u001b[1;33m)\u001b[0m\u001b[1;33m\u001b[0m\u001b[1;33m\u001b[0m\u001b[0m\n",
      "\u001b[1;32m~\\anaconda3\\lib\\site-packages\\torchvision\\datasets\\folder.py\u001b[0m in \u001b[0;36m__init__\u001b[1;34m(self, root, transform, target_transform, loader, is_valid_file)\u001b[0m\n\u001b[0;32m    308\u001b[0m             \u001b[0mis_valid_file\u001b[0m\u001b[1;33m:\u001b[0m \u001b[0mOptional\u001b[0m\u001b[1;33m[\u001b[0m\u001b[0mCallable\u001b[0m\u001b[1;33m[\u001b[0m\u001b[1;33m[\u001b[0m\u001b[0mstr\u001b[0m\u001b[1;33m]\u001b[0m\u001b[1;33m,\u001b[0m \u001b[0mbool\u001b[0m\u001b[1;33m]\u001b[0m\u001b[1;33m]\u001b[0m \u001b[1;33m=\u001b[0m \u001b[1;32mNone\u001b[0m\u001b[1;33m,\u001b[0m\u001b[1;33m\u001b[0m\u001b[1;33m\u001b[0m\u001b[0m\n\u001b[0;32m    309\u001b[0m     ):\n\u001b[1;32m--> 310\u001b[1;33m         super(ImageFolder, self).__init__(root, loader, IMG_EXTENSIONS if is_valid_file is None else None,\n\u001b[0m\u001b[0;32m    311\u001b[0m                                           \u001b[0mtransform\u001b[0m\u001b[1;33m=\u001b[0m\u001b[0mtransform\u001b[0m\u001b[1;33m,\u001b[0m\u001b[1;33m\u001b[0m\u001b[1;33m\u001b[0m\u001b[0m\n\u001b[0;32m    312\u001b[0m                                           \u001b[0mtarget_transform\u001b[0m\u001b[1;33m=\u001b[0m\u001b[0mtarget_transform\u001b[0m\u001b[1;33m,\u001b[0m\u001b[1;33m\u001b[0m\u001b[1;33m\u001b[0m\u001b[0m\n",
      "\u001b[1;32m~\\anaconda3\\lib\\site-packages\\torchvision\\datasets\\folder.py\u001b[0m in \u001b[0;36m__init__\u001b[1;34m(self, root, loader, extensions, transform, target_transform, is_valid_file)\u001b[0m\n\u001b[0;32m    143\u001b[0m         super(DatasetFolder, self).__init__(root, transform=transform,\n\u001b[0;32m    144\u001b[0m                                             target_transform=target_transform)\n\u001b[1;32m--> 145\u001b[1;33m         \u001b[0mclasses\u001b[0m\u001b[1;33m,\u001b[0m \u001b[0mclass_to_idx\u001b[0m \u001b[1;33m=\u001b[0m \u001b[0mself\u001b[0m\u001b[1;33m.\u001b[0m\u001b[0mfind_classes\u001b[0m\u001b[1;33m(\u001b[0m\u001b[0mself\u001b[0m\u001b[1;33m.\u001b[0m\u001b[0mroot\u001b[0m\u001b[1;33m)\u001b[0m\u001b[1;33m\u001b[0m\u001b[1;33m\u001b[0m\u001b[0m\n\u001b[0m\u001b[0;32m    146\u001b[0m         \u001b[0msamples\u001b[0m \u001b[1;33m=\u001b[0m \u001b[0mself\u001b[0m\u001b[1;33m.\u001b[0m\u001b[0mmake_dataset\u001b[0m\u001b[1;33m(\u001b[0m\u001b[0mself\u001b[0m\u001b[1;33m.\u001b[0m\u001b[0mroot\u001b[0m\u001b[1;33m,\u001b[0m \u001b[0mclass_to_idx\u001b[0m\u001b[1;33m,\u001b[0m \u001b[0mextensions\u001b[0m\u001b[1;33m,\u001b[0m \u001b[0mis_valid_file\u001b[0m\u001b[1;33m)\u001b[0m\u001b[1;33m\u001b[0m\u001b[1;33m\u001b[0m\u001b[0m\n\u001b[0;32m    147\u001b[0m \u001b[1;33m\u001b[0m\u001b[0m\n",
      "\u001b[1;32m~\\anaconda3\\lib\\site-packages\\torchvision\\datasets\\folder.py\u001b[0m in \u001b[0;36mfind_classes\u001b[1;34m(self, directory)\u001b[0m\n\u001b[0;32m    219\u001b[0m             \u001b[1;33m(\u001b[0m\u001b[0mTuple\u001b[0m\u001b[1;33m[\u001b[0m\u001b[0mList\u001b[0m\u001b[1;33m[\u001b[0m\u001b[0mstr\u001b[0m\u001b[1;33m]\u001b[0m\u001b[1;33m,\u001b[0m \u001b[0mDict\u001b[0m\u001b[1;33m[\u001b[0m\u001b[0mstr\u001b[0m\u001b[1;33m,\u001b[0m \u001b[0mint\u001b[0m\u001b[1;33m]\u001b[0m\u001b[1;33m]\u001b[0m\u001b[1;33m)\u001b[0m\u001b[1;33m:\u001b[0m \u001b[0mList\u001b[0m \u001b[0mof\u001b[0m \u001b[0mall\u001b[0m \u001b[0mclasses\u001b[0m \u001b[1;32mand\u001b[0m \u001b[0mdictionary\u001b[0m \u001b[0mmapping\u001b[0m \u001b[0meach\u001b[0m \u001b[1;32mclass\u001b[0m \u001b[0mto\u001b[0m \u001b[0man\u001b[0m \u001b[0mindex\u001b[0m\u001b[1;33m.\u001b[0m\u001b[1;33m\u001b[0m\u001b[1;33m\u001b[0m\u001b[0m\n\u001b[0;32m    220\u001b[0m         \"\"\"\n\u001b[1;32m--> 221\u001b[1;33m         \u001b[1;32mreturn\u001b[0m \u001b[0mfind_classes\u001b[0m\u001b[1;33m(\u001b[0m\u001b[0mdirectory\u001b[0m\u001b[1;33m)\u001b[0m\u001b[1;33m\u001b[0m\u001b[1;33m\u001b[0m\u001b[0m\n\u001b[0m\u001b[0;32m    222\u001b[0m \u001b[1;33m\u001b[0m\u001b[0m\n\u001b[0;32m    223\u001b[0m     \u001b[1;32mdef\u001b[0m \u001b[0m__getitem__\u001b[0m\u001b[1;33m(\u001b[0m\u001b[0mself\u001b[0m\u001b[1;33m,\u001b[0m \u001b[0mindex\u001b[0m\u001b[1;33m:\u001b[0m \u001b[0mint\u001b[0m\u001b[1;33m)\u001b[0m \u001b[1;33m->\u001b[0m \u001b[0mTuple\u001b[0m\u001b[1;33m[\u001b[0m\u001b[0mAny\u001b[0m\u001b[1;33m,\u001b[0m \u001b[0mAny\u001b[0m\u001b[1;33m]\u001b[0m\u001b[1;33m:\u001b[0m\u001b[1;33m\u001b[0m\u001b[1;33m\u001b[0m\u001b[0m\n",
      "\u001b[1;32m~\\anaconda3\\lib\\site-packages\\torchvision\\datasets\\folder.py\u001b[0m in \u001b[0;36mfind_classes\u001b[1;34m(directory)\u001b[0m\n\u001b[0;32m     40\u001b[0m     \u001b[0mclasses\u001b[0m \u001b[1;33m=\u001b[0m \u001b[0msorted\u001b[0m\u001b[1;33m(\u001b[0m\u001b[0mentry\u001b[0m\u001b[1;33m.\u001b[0m\u001b[0mname\u001b[0m \u001b[1;32mfor\u001b[0m \u001b[0mentry\u001b[0m \u001b[1;32min\u001b[0m \u001b[0mos\u001b[0m\u001b[1;33m.\u001b[0m\u001b[0mscandir\u001b[0m\u001b[1;33m(\u001b[0m\u001b[0mdirectory\u001b[0m\u001b[1;33m)\u001b[0m \u001b[1;32mif\u001b[0m \u001b[0mentry\u001b[0m\u001b[1;33m.\u001b[0m\u001b[0mis_dir\u001b[0m\u001b[1;33m(\u001b[0m\u001b[1;33m)\u001b[0m\u001b[1;33m)\u001b[0m\u001b[1;33m\u001b[0m\u001b[1;33m\u001b[0m\u001b[0m\n\u001b[0;32m     41\u001b[0m     \u001b[1;32mif\u001b[0m \u001b[1;32mnot\u001b[0m \u001b[0mclasses\u001b[0m\u001b[1;33m:\u001b[0m\u001b[1;33m\u001b[0m\u001b[1;33m\u001b[0m\u001b[0m\n\u001b[1;32m---> 42\u001b[1;33m         \u001b[1;32mraise\u001b[0m \u001b[0mFileNotFoundError\u001b[0m\u001b[1;33m(\u001b[0m\u001b[1;34mf\"Couldn't find any class folder in {directory}.\"\u001b[0m\u001b[1;33m)\u001b[0m\u001b[1;33m\u001b[0m\u001b[1;33m\u001b[0m\u001b[0m\n\u001b[0m\u001b[0;32m     43\u001b[0m \u001b[1;33m\u001b[0m\u001b[0m\n\u001b[0;32m     44\u001b[0m     \u001b[0mclass_to_idx\u001b[0m \u001b[1;33m=\u001b[0m \u001b[1;33m{\u001b[0m\u001b[0mcls_name\u001b[0m\u001b[1;33m:\u001b[0m \u001b[0mi\u001b[0m \u001b[1;32mfor\u001b[0m \u001b[0mi\u001b[0m\u001b[1;33m,\u001b[0m \u001b[0mcls_name\u001b[0m \u001b[1;32min\u001b[0m \u001b[0menumerate\u001b[0m\u001b[1;33m(\u001b[0m\u001b[0mclasses\u001b[0m\u001b[1;33m)\u001b[0m\u001b[1;33m}\u001b[0m\u001b[1;33m\u001b[0m\u001b[1;33m\u001b[0m\u001b[0m\n",
      "\u001b[1;31mFileNotFoundError\u001b[0m: Couldn't find any class folder in images/."
     ]
    }
   ],
   "source": [
    "from torchvision.datasets import ImageFolder\n",
    "from torch.utils.data import Subset\n",
    "from sklearn.model_selection import train_test_split\n",
    "from torchvision.transforms import Compose, ToTensor, Resize\n",
    "from torch.utils.data import DataLoader\n",
    "\n",
    "\n",
    "def train_val_dataset(dataset, val_split=0.25):\n",
    "    train_idx, val_idx = train_test_split(list(range(len(dataset))), test_size=val_split)\n",
    "    datasets = {}\n",
    "    datasets['train'] = Subset(dataset, train_idx)\n",
    "    datasets['val'] = Subset(dataset, val_idx)\n",
    "    return datasets\n",
    "\n",
    "dataset = ImageFolder(datapath)\n",
    "print(len(dataset))\n",
    "datasets = train_val_dataset(dataset)\n",
    "print(len(datasets['train']))\n",
    "print(len(datasets['val']))\n"
   ]
  },
  {
   "cell_type": "markdown",
   "metadata": {},
   "source": [
    "### creating symlinks"
   ]
  },
  {
   "cell_type": "code",
   "execution_count": 4,
   "metadata": {},
   "outputs": [],
   "source": [
    "# create folder structure to hold split sets\n",
    "dataset = \"split/\"\n",
    "#os.mkdir(dataset)\n",
    "\n",
    "dirs = [\"train\", \"test\", \"val\"]\n",
    "\n",
    "train_path = os.path.join(dataset, \"train\")\n",
    "val_path = os.path.join(dataset, \"val\")\n",
    "test_path = os.path.join(dataset, \"test\")\n",
    "\n",
    "##os.mkdir(train_path)\n",
    "#os.mkdir(val_path)\n",
    "#os.mkdir(test_path)"
   ]
  },
  {
   "cell_type": "markdown",
   "metadata": {},
   "source": [
    "- Make folders for each class in each dataset folder\n",
    "- read in the original train/val/test split csvs\n",
    "- using `os.symlink()`, add links to original files in corresponding class folder in each dataset folder"
   ]
  },
  {
   "cell_type": "markdown",
   "metadata": {},
   "source": [
    "functionalised making of symlinks\n",
    "\n",
    "- (locally tested) Now properly creates split/phase/class folders in the right place and symlink for provided source file.\n",
    "\n",
    "- `create_link(src, phase)`\n",
    "-  `src` being an absolute path, `phase` being a string of 'train', 'val' or 'test'"
   ]
  },
  {
   "cell_type": "code",
   "execution_count": 27,
   "metadata": {},
   "outputs": [
    {
     "name": "stdout",
     "output_type": "stream",
     "text": [
      "source exists\n",
      "base_path:  split\n",
      "0\n",
      "class index of source: 0, labelname: rice_leaf_roller\n",
      "phase path: 'split\\train'\n",
      "making phase directory...\n",
      "dest folder path: split\\train\\rice_leaf_roller, is abs: False\n",
      "making class directory...\n",
      "link path: split\\train\\rice_leaf_roller\\0_00005.jpg\n",
      "making symlink at split\\train\\rice_leaf_roller\\0_00005.jpg\n"
     ]
    }
   ],
   "source": [
    "dataset = \"split/\"\n",
    "os.mkdir(dataset)\n",
    "src_abs = os.path.abspath(src)\n",
    "\n",
    "\n",
    "def create_link(src, phase):\n",
    "\n",
    "    # check src\n",
    "    if os.path.isfile(src):\n",
    "        print('source exists')\n",
    "        base_path = os.path.relpath(dataset)\n",
    "\n",
    "        print(\"base_path: \", base_path)\n",
    "        \n",
    "        \n",
    "        # determine class index from filename\n",
    "        head_tail = os.path.split(src)\n",
    "\n",
    "        label_index = int(head_tail[1].split('_')[0])\n",
    "        print(label_index)\n",
    "\n",
    "        img_filename_only = head_tail[1]\n",
    "\n",
    "        labelname = labels[label_index]\n",
    "        print('class index of source: {}, labelname: {}'.format(label_index, labelname))\n",
    "        phase_path = os.path.join(base_path, phase)\n",
    "        print(\"phase path: '%s'\" % phase_path)\n",
    "\n",
    "        # if phase path doesn't exist, it needs to be made\n",
    "        if not os.path.isdir(phase_path):\n",
    "            print(\"making phase directory...\")\n",
    "            os.mkdir(phase_path)\n",
    "\n",
    "        dest_folder_path = os.path.join(phase_path, labelname)\n",
    "        print(\"dest folder path: {}, is abs: {}\".format(dest_folder_path, os.path.isabs(dest_folder_path)))\n",
    "\n",
    "        # if destination folder doesn't exist, make it\n",
    "        if not os.path.exists(dest_folder_path):\n",
    "             print(\"making class directory...\")\n",
    "             os.mkdir(dest_folder_path)\n",
    "        \n",
    "        # create destination path\n",
    "        link_path = os.path.join(dest_folder_path, img_filename_only)\n",
    "        link_path = os.path.relpath(link_path)\n",
    "        print(\"link path:\", link_path)\n",
    "        \n",
    "        # make link\n",
    "        print(\"making symlink at\", link_path)\n",
    "        os.symlink(src, link_path)\n",
    "        \n",
    "\n",
    "    else:\n",
    "        print('src file not found')\n",
    "\n",
    "\n",
    "create_link(src_abs, \"train\")"
   ]
  },
  {
   "cell_type": "code",
   "execution_count": null,
   "metadata": {},
   "outputs": [],
   "source": []
  }
 ],
 "metadata": {
  "interpreter": {
   "hash": "c8d98a4d7b21855fa83e9651ffe8cf94119fccfa842c954a5ce564f04fa47355"
  },
  "kernelspec": {
   "display_name": "Python 3.9.5 64-bit",
   "language": "python",
   "name": "python3"
  },
  "language_info": {
   "codemirror_mode": {
    "name": "ipython",
    "version": 3
   },
   "file_extension": ".py",
   "mimetype": "text/x-python",
   "name": "python",
   "nbconvert_exporter": "python",
   "pygments_lexer": "ipython3",
   "version": "3.8.8"
  },
  "orig_nbformat": 4
 },
 "nbformat": 4,
 "nbformat_minor": 2
}
