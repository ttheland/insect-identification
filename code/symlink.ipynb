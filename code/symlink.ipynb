{
 "cells": [
  {
   "cell_type": "markdown",
   "metadata": {},
   "source": [
    "## Dataset split using `os.symlink()`\n",
    "\n",
    "When working with large datasets consisting of separate files, we can manage dataset splits with symbolic links, essentially creating shortcuts to original files according to a desired split ratio.\n",
    "\n",
    "The advantage is we don't need to copy or move files around, as these operations require extra computation and memory usage.  "
   ]
  },
  {
   "cell_type": "code",
   "execution_count": 3,
   "metadata": {},
   "outputs": [
    {
     "name": "stdout",
     "output_type": "stream",
     "text": [
      "c:\\Users\\tomas\\Documents\\setit\\insect-identification\\code\n"
     ]
    }
   ],
   "source": [
    "import os\n",
    "import matplotlib.pyplot as plt\n",
    "import pandas as pd\n",
    "import numpy as np\n",
    "from PIL import Image\n",
    "\n",
    "%matplotlib inline\n",
    "\n",
    "print(os.getcwd())\n",
    "\n",
    "datapath = \"images/\""
   ]
  },
  {
   "cell_type": "code",
   "execution_count": 4,
   "metadata": {},
   "outputs": [
    {
     "name": "stdout",
     "output_type": "stream",
     "text": [
      "0\n"
     ]
    }
   ],
   "source": [
    "# read category from filename\n",
    "filename = \"0_00213.jpg\"\n",
    "category = filename.split(\"_\")[0]\n",
    "print(category)"
   ]
  },
  {
   "cell_type": "markdown",
   "metadata": {},
   "source": [
    "### Get labels"
   ]
  },
  {
   "cell_type": "code",
   "execution_count": 5,
   "metadata": {},
   "outputs": [
    {
     "ename": "FileNotFoundError",
     "evalue": "[Errno 2] No such file or directory: 'classes.txt.txt'",
     "output_type": "error",
     "traceback": [
      "\u001b[1;31m---------------------------------------------------------------------------\u001b[0m",
      "\u001b[1;31mFileNotFoundError\u001b[0m                         Traceback (most recent call last)",
      "\u001b[1;32m<ipython-input-5-94b877e02300>\u001b[0m in \u001b[0;36m<module>\u001b[1;34m\u001b[0m\n\u001b[0;32m      3\u001b[0m \u001b[0mlabels\u001b[0m \u001b[1;33m=\u001b[0m \u001b[1;33m{\u001b[0m\u001b[1;33m}\u001b[0m\u001b[1;33m\u001b[0m\u001b[1;33m\u001b[0m\u001b[0m\n\u001b[0;32m      4\u001b[0m \u001b[1;33m\u001b[0m\u001b[0m\n\u001b[1;32m----> 5\u001b[1;33m \u001b[1;32mwith\u001b[0m \u001b[0mopen\u001b[0m\u001b[1;33m(\u001b[0m\u001b[1;34m'classes.txt.txt'\u001b[0m\u001b[1;33m)\u001b[0m \u001b[1;32mas\u001b[0m \u001b[0mf\u001b[0m\u001b[1;33m:\u001b[0m\u001b[1;33m\u001b[0m\u001b[1;33m\u001b[0m\u001b[0m\n\u001b[0m\u001b[0;32m      6\u001b[0m     \u001b[1;32mfor\u001b[0m \u001b[0mline\u001b[0m \u001b[1;32min\u001b[0m \u001b[0mf\u001b[0m\u001b[1;33m:\u001b[0m\u001b[1;33m\u001b[0m\u001b[1;33m\u001b[0m\u001b[0m\n\u001b[0;32m      7\u001b[0m         \u001b[1;31m# remove lead/trailing whitespace\u001b[0m\u001b[1;33m\u001b[0m\u001b[1;33m\u001b[0m\u001b[1;33m\u001b[0m\u001b[0m\n",
      "\u001b[1;31mFileNotFoundError\u001b[0m: [Errno 2] No such file or directory: 'classes.txt.txt'"
     ]
    }
   ],
   "source": [
    "# read in `classes.txt.txt` with proper class names into a dict.\n",
    "# these could do with a bit of sanitation.\n",
    "labels = {}\n",
    "\n",
    "with open('classes.txt.txt') as f:\n",
    "    for line in f:\n",
    "        # remove lead/trailing whitespace \n",
    "        stripped = line.strip()\n",
    "        # collect the parts of the names together with *\n",
    "        head, *rest = stripped.split()\n",
    "\n",
    "        # we can do -1 here since our images are classed 0-101\n",
    "        key = int(head) -1\n",
    "        \n",
    "        val = rest\n",
    "        # join the names with an underscore\n",
    "        labels[key] = '_'.join(val)\n",
    "\n",
    "labels"
   ]
  },
  {
   "cell_type": "code",
   "execution_count": 1,
   "metadata": {},
   "outputs": [],
   "source": [
    "# # alternatively the dictionary comprehension way\n",
    "# with open(\"classes.txt.txt\") as f:\n",
    "#     a = {int(k)-1: '_'.join(v.split()) for line in f for (k,v) in [line.strip().split(None, 1)]}\n",
    "# a"
   ]
  },
  {
   "cell_type": "markdown",
   "metadata": {},
   "source": [
    "### Data exploration & split "
   ]
  },
  {
   "cell_type": "markdown",
   "metadata": {},
   "source": [
    "- read original splits from .csvs and select matching filenames\n",
    "- custom split:\n",
    "    * get lengths of each class subset (# of samples per label)\n",
    "    * "
   ]
  },
  {
   "cell_type": "code",
   "execution_count": 14,
   "metadata": {},
   "outputs": [],
   "source": [
    "# https://github.com/MLWhiz/data_science_blogs/blob/master/compvisblog/Boats_DataExploration.ipynb\n",
    "\n",
    "# print(labels)\n",
    "\n",
    "file_list = [] \n",
    "for (dirpath, dirnames, filenames) in os.walk(datapath):\n",
    "    file_list.extend(filenames)\n",
    "\n",
    "# # or\n",
    "# images = []\n",
    "# for image in os.listdir(datapath):\n",
    "#     images.append(image)\n",
    "\n",
    "# print(len(images))\n",
    "# print(images[0], images[-1])"
   ]
  },
  {
   "cell_type": "code",
   "execution_count": 6,
   "metadata": {},
   "outputs": [
    {
     "data": {
      "text/html": [
       "<div>\n",
       "<style scoped>\n",
       "    .dataframe tbody tr th:only-of-type {\n",
       "        vertical-align: middle;\n",
       "    }\n",
       "\n",
       "    .dataframe tbody tr th {\n",
       "        vertical-align: top;\n",
       "    }\n",
       "\n",
       "    .dataframe thead th {\n",
       "        text-align: right;\n",
       "    }\n",
       "</style>\n",
       "<table border=\"1\" class=\"dataframe\">\n",
       "  <thead>\n",
       "    <tr style=\"text-align: right;\">\n",
       "      <th></th>\n",
       "      <th>classID</th>\n",
       "      <th>Image count</th>\n",
       "    </tr>\n",
       "  </thead>\n",
       "  <tbody>\n",
       "    <tr>\n",
       "      <th>0</th>\n",
       "      <td>101</td>\n",
       "      <td>5740</td>\n",
       "    </tr>\n",
       "    <tr>\n",
       "      <th>1</th>\n",
       "      <td>67</td>\n",
       "      <td>5310</td>\n",
       "    </tr>\n",
       "    <tr>\n",
       "      <th>2</th>\n",
       "      <td>70</td>\n",
       "      <td>5081</td>\n",
       "    </tr>\n",
       "    <tr>\n",
       "      <th>3</th>\n",
       "      <td>24</td>\n",
       "      <td>4094</td>\n",
       "    </tr>\n",
       "    <tr>\n",
       "      <th>4</th>\n",
       "      <td>51</td>\n",
       "      <td>1897</td>\n",
       "    </tr>\n",
       "    <tr>\n",
       "      <th>...</th>\n",
       "      <td>...</td>\n",
       "      <td>...</td>\n",
       "    </tr>\n",
       "    <tr>\n",
       "      <th>97</th>\n",
       "      <td>98</td>\n",
       "      <td>93</td>\n",
       "    </tr>\n",
       "    <tr>\n",
       "      <th>98</th>\n",
       "      <td>63</td>\n",
       "      <td>84</td>\n",
       "    </tr>\n",
       "    <tr>\n",
       "      <th>99</th>\n",
       "      <td>61</td>\n",
       "      <td>79</td>\n",
       "    </tr>\n",
       "    <tr>\n",
       "      <th>100</th>\n",
       "      <td>80</td>\n",
       "      <td>74</td>\n",
       "    </tr>\n",
       "    <tr>\n",
       "      <th>101</th>\n",
       "      <td>72</td>\n",
       "      <td>71</td>\n",
       "    </tr>\n",
       "  </tbody>\n",
       "</table>\n",
       "<p>102 rows × 2 columns</p>\n",
       "</div>"
      ],
      "text/plain": [
       "    classID  Image count\n",
       "0       101         5740\n",
       "1        67         5310\n",
       "2        70         5081\n",
       "3        24         4094\n",
       "4        51         1897\n",
       "..      ...          ...\n",
       "97       98           93\n",
       "98       63           84\n",
       "99       61           79\n",
       "100      80           74\n",
       "101      72           71\n",
       "\n",
       "[102 rows x 2 columns]"
      ]
     },
     "execution_count": 6,
     "metadata": {},
     "output_type": "execute_result"
    }
   ],
   "source": [
    "# dict with filename as key, class as value\n",
    "images = {}\n",
    "for image in os.listdir(datapath):\n",
    "    (val, key) = image.split(\"_\")\n",
    "    images[key] = val\n",
    "\n",
    "# get file counts per class\n",
    "from collections import Counter\n",
    "\n",
    "images_per_class = Counter(images.values())\n",
    "\n",
    "# accessing particular class \n",
    "counts_20 = images_per_class['20']\n",
    "\n",
    "#print(counts_20, '\\n')\n",
    "#print(images_per_class)\n",
    "\n",
    "# sort descending according to count\n",
    "\n",
    "sorted_desc = sorted(images_per_class.items(), key=lambda x:x[1], reverse = True)\n",
    "\n",
    "df = pd.DataFrame(sorted_desc, columns=[\"classID\",\"Image count\"])\n",
    "\n",
    "df"
   ]
  },
  {
   "cell_type": "code",
   "execution_count": 7,
   "metadata": {},
   "outputs": [
    {
     "data": {
      "text/plain": [
       "<AxesSubplot:title={'center':'IP102, images per target class'}>"
      ]
     },
     "execution_count": 7,
     "metadata": {},
     "output_type": "execute_result"
    },
    {
     "data": {
      "image/png": "[encoded data removed]",
      "text/plain": [
       "<Figure size 432x288 with 1 Axes>"
      ]
     },
     "metadata": {
      "needs_background": "light"
     },
     "output_type": "display_data"
    }
   ],
   "source": [
    "df[\"Image count\"].plot.bar(title=\"IP102, images per target class\")\n"
   ]
  },
  {
   "cell_type": "markdown",
   "metadata": {},
   "source": [
    "### custom data split"
   ]
  },
  {
   "cell_type": "code",
   "execution_count": null,
   "metadata": {},
   "outputs": [],
   "source": [
    "# set target ratios for split. E.g., train=0.75, val=0.15, test=0.10.\n",
    "\n",
    "# calculate the length of each subset. E.g., train_length =  0.75 * len(entire set)\n",
    "\n",
    "# do a stratified sample of the desired size for each subset. for example sklearn Subset??\n",
    "# https://discuss.pytorch.org/t/how-to-split-dataset-into-test-and-validation-sets/33987/5"
   ]
  },
  {
   "cell_type": "markdown",
   "metadata": {},
   "source": [
    "### original data split from .csvs"
   ]
  },
  {
   "cell_type": "code",
   "execution_count": 19,
   "metadata": {},
   "outputs": [
    {
     "name": "stdout",
     "output_type": "stream",
     "text": [
      "length of training subset: 45095\n",
      "length of validation subset: 7508\n",
      "length of test subset: 22619\n"
     ]
    }
   ],
   "source": [
    "# read in filenames from csvs containing original data splits\n",
    "\n",
    "train_files = []\n",
    "with open('train.txt') as f:\n",
    "    for line in f:\n",
    "        train_files.append(line.split(\" \")[0])\n",
    "\n",
    "val_files = []\n",
    "with open('val.txt') as f:\n",
    "    for line in f:\n",
    "        val_files.append(line.split(\" \")[0])\n",
    "\n",
    "test_files = []\n",
    "with open('test.txt') as f:\n",
    "    for line in f:\n",
    "        test_files.append(line.split(\" \")[0])\n",
    "\n",
    "print(\"length of training subset:\", len(train_files))\n",
    "print(\"length of validation subset:\", len(val_files))\n",
    "print(\"length of test subset:\", len(test_files))        "
   ]
  },
  {
   "cell_type": "code",
   "execution_count": 2,
   "metadata": {},
   "outputs": [
    {
     "ename": "NameError",
     "evalue": "name 'file_list' is not defined",
     "output_type": "error",
     "traceback": [
      "\u001b[1;31m---------------------------------------------------------------------------\u001b[0m",
      "\u001b[1;31mNameError\u001b[0m                                 Traceback (most recent call last)",
      "\u001b[1;32m<ipython-input-2-8334974bab8b>\u001b[0m in \u001b[0;36m<module>\u001b[1;34m\u001b[0m\n\u001b[0;32m      1\u001b[0m \u001b[1;31m# get paths of images in each subset by matching filenames\u001b[0m\u001b[1;33m\u001b[0m\u001b[1;33m\u001b[0m\u001b[1;33m\u001b[0m\u001b[0m\n\u001b[0;32m      2\u001b[0m \u001b[1;31m# get rid of class prefix here with .split(\"_\")[1]\u001b[0m\u001b[1;33m\u001b[0m\u001b[1;33m\u001b[0m\u001b[1;33m\u001b[0m\u001b[0m\n\u001b[1;32m----> 3\u001b[1;33m \u001b[0mstripped_filenames\u001b[0m \u001b[1;33m=\u001b[0m \u001b[1;33m{\u001b[0m\u001b[0mfile\u001b[0m\u001b[1;33m.\u001b[0m\u001b[0msplit\u001b[0m\u001b[1;33m(\u001b[0m\u001b[1;34m\"_\"\u001b[0m\u001b[1;33m)\u001b[0m\u001b[1;33m[\u001b[0m\u001b[1;36m1\u001b[0m\u001b[1;33m]\u001b[0m \u001b[1;32mfor\u001b[0m \u001b[0mfile\u001b[0m \u001b[1;32min\u001b[0m \u001b[0mfile_list\u001b[0m\u001b[1;33m}\u001b[0m\u001b[1;33m\u001b[0m\u001b[1;33m\u001b[0m\u001b[0m\n\u001b[0m\u001b[0;32m      4\u001b[0m \u001b[1;33m\u001b[0m\u001b[0m\n\u001b[0;32m      5\u001b[0m \u001b[0mmatches\u001b[0m \u001b[1;33m=\u001b[0m \u001b[1;33m[\u001b[0m\u001b[1;33m]\u001b[0m\u001b[1;33m\u001b[0m\u001b[1;33m\u001b[0m\u001b[0m\n",
      "\u001b[1;31mNameError\u001b[0m: name 'file_list' is not defined"
     ]
    }
   ],
   "source": [
    "# get paths of images in each subset by matching filenames \n",
    "# get rid of class prefix here with .split(\"_\")[1]\n",
    "stripped_filenames = {file.split(\"_\")[1] for file in file_list}\n",
    "\n",
    "matches = []\n",
    "for file in train_files:\n",
    "    if file in stripped_filenames:\n",
    "        # print('found', file)\n",
    "        matches.append(file)\n",
    "print(len(matches))"
   ]
  },
  {
   "cell_type": "markdown",
   "metadata": {},
   "source": [
    "### creating symlinks"
   ]
  },
  {
   "cell_type": "code",
   "execution_count": 4,
   "metadata": {},
   "outputs": [],
   "source": [
    "# create folder structure to hold split sets\n",
    "dataset = \"split/\"\n",
    "#os.mkdir(dataset)\n",
    "\n",
    "dirs = [\"train\", \"test\", \"val\"]\n",
    "\n",
    "train_path = os.path.join(dataset, \"train\")\n",
    "val_path = os.path.join(dataset, \"val\")\n",
    "test_path = os.path.join(dataset, \"test\")\n",
    "\n",
    "##os.mkdir(train_path)\n",
    "#os.mkdir(val_path)\n",
    "#os.mkdir(test_path)"
   ]
  },
  {
   "cell_type": "markdown",
   "metadata": {},
   "source": [
    "- Make folders for each class in each dataset folder\n",
    "- using `os.symlink()`, add links to original files in corresponding class folder in each dataset folder"
   ]
  },
  {
   "cell_type": "markdown",
   "metadata": {},
   "source": [
    "functionalised making of symlinks\n",
    "\n",
    "- (locally tested) Now properly creates split/phase/class folders in the right place and symlink for provided source file.\n",
    "\n",
    "- `create_link(src, phase)`\n",
    "-  `src` being an absolute path, `phase` being a string of 'train', 'val' or 'test'"
   ]
  },
  {
   "cell_type": "code",
   "execution_count": 27,
   "metadata": {},
   "outputs": [
    {
     "name": "stdout",
     "output_type": "stream",
     "text": [
      "source exists\n",
      "base_path:  split\n",
      "0\n",
      "class index of source: 0, labelname: rice_leaf_roller\n",
      "phase path: 'split\\train'\n",
      "making phase directory...\n",
      "dest folder path: split\\train\\rice_leaf_roller, is abs: False\n",
      "making class directory...\n",
      "link path: split\\train\\rice_leaf_roller\\0_00005.jpg\n",
      "making symlink at split\\train\\rice_leaf_roller\\0_00005.jpg\n"
     ]
    }
   ],
   "source": [
    "dataset = \"split/\"\n",
    "os.mkdir(dataset)\n",
    "src_abs = os.path.abspath(src)\n",
    "\n",
    "\n",
    "def create_link(src, phase):\n",
    "\n",
    "    # check src\n",
    "    if os.path.isfile(src):\n",
    "        print('source exists')\n",
    "        base_path = os.path.relpath(dataset)\n",
    "\n",
    "        print(\"base_path: \", base_path)\n",
    "        \n",
    "        \n",
    "        # determine class index from filename\n",
    "        head_tail = os.path.split(src)\n",
    "\n",
    "        label_index = int(head_tail[1].split('_')[0])\n",
    "        print(label_index)\n",
    "\n",
    "        img_filename_only = head_tail[1]\n",
    "\n",
    "        labelname = labels[label_index]\n",
    "        print('class index of source: {}, labelname: {}'.format(label_index, labelname))\n",
    "        phase_path = os.path.join(base_path, phase)\n",
    "        print(\"phase path: '%s'\" % phase_path)\n",
    "\n",
    "        # if phase path doesn't exist, it needs to be made\n",
    "        if not os.path.isdir(phase_path):\n",
    "            print(\"making phase directory...\")\n",
    "            os.mkdir(phase_path)\n",
    "\n",
    "        dest_folder_path = os.path.join(phase_path, labelname)\n",
    "        print(\"dest folder path: {}, is abs: {}\".format(dest_folder_path, os.path.isabs(dest_folder_path)))\n",
    "\n",
    "        # if destination folder doesn't exist, make it\n",
    "        if not os.path.exists(dest_folder_path):\n",
    "             print(\"making class directory...\")\n",
    "             os.mkdir(dest_folder_path)\n",
    "        \n",
    "        # create destination path\n",
    "        link_path = os.path.join(dest_folder_path, img_filename_only)\n",
    "        link_path = os.path.relpath(link_path)\n",
    "        print(\"link path:\", link_path)\n",
    "        \n",
    "        # make link\n",
    "        print(\"making symlink at\", link_path)\n",
    "        os.symlink(src, link_path)\n",
    "        \n",
    "\n",
    "    else:\n",
    "        print('src file not found')\n",
    "\n",
    "\n",
    "create_link(src_abs, \"train\")"
   ]
  },
  {
   "cell_type": "code",
   "execution_count": null,
   "metadata": {},
   "outputs": [],
   "source": []
  }
 ],
 "metadata": {
  "interpreter": {
   "hash": "c8d98a4d7b21855fa83e9651ffe8cf94119fccfa842c954a5ce564f04fa47355"
  },
  "kernelspec": {
   "display_name": "Python 3.9.5 64-bit",
   "language": "python",
   "name": "python3"
  },
  "language_info": {
   "codemirror_mode": {
    "name": "ipython",
    "version": 3
   },
   "file_extension": ".py",
   "mimetype": "text/x-python",
   "name": "python",
   "nbconvert_exporter": "python",
   "pygments_lexer": "ipython3",
   "version": "3.9.5"
  },
  "orig_nbformat": 4
 },
 "nbformat": 4,
 "nbformat_minor": 2
}
