{
 "cells": [
  {
   "cell_type": "markdown",
   "metadata": {},
   "source": [
    "## rename IP102 files to include class label\n",
    "\n",
    "1. combine the three .txt files containing image names and class labels\n",
    "2. read filenames and labels into a dict\n",
    "3. using `os.rename(oldname, newname)`, rename the files to include label as prefix separated with _: e.g. `0_00023.jpg` from the dict"
   ]
  },
  {
   "cell_type": "code",
   "execution_count": 13,
   "metadata": {},
   "outputs": [],
   "source": [
    "# combine text files\n",
    "import shutil\n",
    "\n",
    "filenames = ['train.txt', 'val.txt', 'test.txt']\n",
    "\n",
    "with open('combined.txt', 'wb') as wfd:\n",
    "    for f in filenames:\n",
    "        with open(f, 'rb') as fd:\n",
    "            shutil.copyfileobj(fd, wfd)"
   ]
  },
  {
   "cell_type": "code",
   "execution_count": 15,
   "metadata": {},
   "outputs": [],
   "source": [
    "# read file into dict with filename as key and class as value\n",
    "d = {}\n",
    "\n",
    "with open(\"combined.txt\") as f:\n",
    "    for line in f:\n",
    "       (key, val) = line.split()\n",
    "       d[key] = val"
   ]
  },
  {
   "cell_type": "code",
   "execution_count": 6,
   "metadata": {},
   "outputs": [],
   "source": [
    "# read images from folder\n",
    "import os\n",
    "\n",
    "path = 'images/'\n",
    "images = []\n",
    "for image in os.listdir(path):\n",
    "    images.append(os.path.join(image))"
   ]
  },
  {
   "cell_type": "code",
   "execution_count": 9,
   "metadata": {},
   "outputs": [],
   "source": [
    "# form new dict with old filename as key and new filename prefixed with class as value\n",
    "classy_names = {}\n",
    "\n",
    "for key in d:\n",
    "    classy_names[key] = d.get(key) + '_' + key"
   ]
  },
  {
   "cell_type": "code",
   "execution_count": 11,
   "metadata": {},
   "outputs": [],
   "source": [
    "# rename \n",
    "for i in images:\n",
    "    # check that we only modify images included in the original sets\n",
    "    # i.e. there is a key 'i' in d\n",
    "    if i in d:\n",
    "        old_file = os.path.join(path, i)\n",
    "        new_file = os.path.join(path, classy_names[i])\n",
    "        os.rename(old_file, new_file)"
   ]
  }
 ],
 "metadata": {
  "interpreter": {
   "hash": "4d333c3e79956f6cfdda154d497169890c9e1b3b648807dd58683480f0849f8e"
  },
  "kernelspec": {
   "display_name": "Python 3.8.8 64-bit ('base': conda)",
   "language": "python",
   "name": "python3"
  },
  "language_info": {
   "codemirror_mode": {
    "name": "ipython",
    "version": 3
   },
   "file_extension": ".py",
   "mimetype": "text/x-python",
   "name": "python",
   "nbconvert_exporter": "python",
   "pygments_lexer": "ipython3",
   "version": "3.8.8"
  },
  "orig_nbformat": 4
 },
 "nbformat": 4,
 "nbformat_minor": 2
}
