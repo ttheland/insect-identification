{
  "nbformat": 4,
  "nbformat_minor": 0,
  "metadata": {
    "colab": {
      "name": "Butterfly Classification demo with Gradio.ipynb",
      "provenance": [],
      "collapsed_sections": []
    },
    "kernelspec": {
      "name": "python3",
      "display_name": "Python 3"
    },
    "language_info": {
      "name": "python"
    }
  },
  "cells": [
    {
      "cell_type": "code",
      "source": [
        "!pip install --q gradio"
      ],
      "metadata": {
        "colab": {
          "base_uri": "https://localhost:8080/"
        },
        "id": "3aCh7MFkT11N",
        "outputId": "b7e57248-ef23-473b-850c-ebf2e0c1571c"
      },
      "execution_count": null,
      "outputs": [
        {
          "output_type": "stream",
          "name": "stdout",
          "text": [
            "\u001b[K     |████████████████████████████████| 865 kB 3.6 MB/s \n",
            "\u001b[K     |████████████████████████████████| 2.0 MB 45.3 MB/s \n",
            "\u001b[K     |████████████████████████████████| 210 kB 54.0 MB/s \n",
            "\u001b[K     |████████████████████████████████| 61 kB 416 kB/s \n",
            "\u001b[K     |████████████████████████████████| 3.6 MB 48.6 MB/s \n",
            "\u001b[K     |████████████████████████████████| 856 kB 71.5 MB/s \n",
            "\u001b[?25h  Building wheel for ffmpy (setup.py) ... \u001b[?25l\u001b[?25hdone\n",
            "  Building wheel for flask-cachebuster (setup.py) ... \u001b[?25l\u001b[?25hdone\n"
          ]
        }
      ]
    },
    {
      "cell_type": "code",
      "execution_count": 16,
      "metadata": {
        "id": "g30Jy5bLSq7Q"
      },
      "outputs": [],
      "source": [
        "import torch\n",
        "import torch.nn as nn\n",
        "import gradio as gr\n",
        "from PIL import Image\n",
        "from torchvision import models, transforms\n",
        "import pickle\n",
        "import copy"
      ]
    },
    {
      "cell_type": "code",
      "source": [
        "from google.colab import drive\n",
        "drive.mount('/content/drive')"
      ],
      "metadata": {
        "colab": {
          "base_uri": "https://localhost:8080/"
        },
        "id": "R-pXZc6TBBAe",
        "outputId": "85004875-897b-46ec-f3f4-03db9846e34e"
      },
      "execution_count": 17,
      "outputs": [
        {
          "output_type": "stream",
          "name": "stdout",
          "text": [
            "Drive already mounted at /content/drive; to attempt to forcibly remount, call drive.mount(\"/content/drive\", force_remount=True).\n"
          ]
        }
      ]
    },
    {
      "cell_type": "code",
      "source": [
        "# example inputs\n",
        "example_inp = []\n",
        "!wget -O p_cresphontes.jpg https://www.baltana.com/files/wallpapers-6/Papilio-Cresphontes-Background-Wallpaper-20293.JPG\n",
        "example_inp.append([\"/p_cresphontes.jpg\"])\n",
        "!wget -O h_erato.jpg https://upload.wikimedia.org/wikipedia/commons/thumb/f/f8/Red_postman_butterfly_%28Heliconius_erato%29.jpg/1599px-Red_postman_butterfly_%28Heliconius_erato%29.jpg\n",
        "example_inp.append([\"/h_erato.jpg\"])\n",
        "!wget -O d_plexippus.jpg https://www.ukbutterflies.co.uk/photo_album/source/664a285ca7b4379147d598ea5127228f.jpg\n",
        "example_inp.append([\"d_plexippus.jpg\"])"
      ],
      "metadata": {
        "id": "N9QlTXuM82iT",
        "colab": {
          "base_uri": "https://localhost:8080/"
        },
        "outputId": "1458468f-83cb-4edc-b8d6-4b6829845d3f"
      },
      "execution_count": 38,
      "outputs": [
        {
          "output_type": "stream",
          "name": "stdout",
          "text": [
            "--2022-01-15 09:55:25--  https://www.baltana.com/files/wallpapers-6/Papilio-Cresphontes-Background-Wallpaper-20293.JPG\n",
            "Resolving www.baltana.com (www.baltana.com)... 78.159.100.204\n",
            "Connecting to www.baltana.com (www.baltana.com)|78.159.100.204|:443... connected.\n",
            "HTTP request sent, awaiting response... 200 OK\n",
            "Length: 220984 (216K) [image/jpeg]\n",
            "Saving to: ‘p_cresphontes.jpg’\n",
            "\n",
            "p_cresphontes.jpg   100%[===================>] 215.80K  81.6KB/s    in 2.6s    \n",
            "\n",
            "2022-01-15 09:55:29 (81.6 KB/s) - ‘p_cresphontes.jpg’ saved [220984/220984]\n",
            "\n",
            "--2022-01-15 09:55:29--  https://upload.wikimedia.org/wikipedia/commons/thumb/f/f8/Red_postman_butterfly_%28Heliconius_erato%29.jpg/1599px-Red_postman_butterfly_%28Heliconius_erato%29.jpg\n",
            "Resolving upload.wikimedia.org (upload.wikimedia.org)... 103.102.166.240, 2001:df2:e500:ed1a::2:b\n",
            "Connecting to upload.wikimedia.org (upload.wikimedia.org)|103.102.166.240|:443... connected.\n",
            "HTTP request sent, awaiting response... 200 OK\n",
            "Length: 224597 (219K) [image/jpeg]\n",
            "Saving to: ‘h_erato.jpg’\n",
            "\n",
            "h_erato.jpg         100%[===================>] 219.33K  1.23MB/s    in 0.2s    \n",
            "\n",
            "2022-01-15 09:55:30 (1.23 MB/s) - ‘h_erato.jpg’ saved [224597/224597]\n",
            "\n",
            "--2022-01-15 09:55:30--  https://www.ukbutterflies.co.uk/photo_album/source/664a285ca7b4379147d598ea5127228f.jpg\n",
            "Resolving www.ukbutterflies.co.uk (www.ukbutterflies.co.uk)... 173.254.30.196\n",
            "Connecting to www.ukbutterflies.co.uk (www.ukbutterflies.co.uk)|173.254.30.196|:443... connected.\n",
            "HTTP request sent, awaiting response... 200 OK\n",
            "Length: 305848 (299K) [image/jpeg]\n",
            "Saving to: ‘d_plexippus.jpg’\n",
            "\n",
            "d_plexippus.jpg     100%[===================>] 298.68K   381KB/s    in 0.8s    \n",
            "\n",
            "2022-01-15 09:55:31 (381 KB/s) - ‘d_plexippus.jpg’ saved [305848/305848]\n",
            "\n"
          ]
        }
      ]
    },
    {
      "cell_type": "code",
      "source": [
        "from google.colab import files\n",
        "\n",
        "# https://drive.google.com/file/d/1qKiyp4r8SqUtz2ZWk3E6oZhyhl6t8lyG/view?usp=sharing\n",
        "!gdown --id 1qKiyp4r8SqUtz2ZWk3E6oZhyhl6t8lyG\n",
        "path_class_names = '/content/class_names_restnet_leeds_butterfly.pkl'\n",
        "\n",
        "\n",
        "# https://drive.google.com/file/d/1Ep2YWU4M-yVkF7AFP3aD1sVhuriIDzFe/view?usp=sharing\n",
        "!gdown --id 1Ep2YWU4M-yVkF7AFP3aD1sVhuriIDzFe\n",
        "path_model = '/content/model_state_restnet_leeds_butterfly.pth'"
      ],
      "metadata": {
        "colab": {
          "base_uri": "https://localhost:8080/"
        },
        "id": "RbkdVKN7T9J1",
        "outputId": "0e35614e-ad7a-436c-9605-c2a3e42ca536"
      },
      "execution_count": 19,
      "outputs": [
        {
          "output_type": "stream",
          "name": "stdout",
          "text": [
            "Downloading...\n",
            "From: https://drive.google.com/uc?id=1qKiyp4r8SqUtz2ZWk3E6oZhyhl6t8lyG\n",
            "To: /content/class_names_restnet_leeds_butterfly.pkl\n",
            "100% 247/247 [00:00<00:00, 180kB/s]\n",
            "Downloading...\n",
            "From: https://drive.google.com/uc?id=1Ep2YWU4M-yVkF7AFP3aD1sVhuriIDzFe\n",
            "To: /content/model_state_restnet_leeds_butterfly.pth\n",
            "100% 44.8M/44.8M [00:00<00:00, 209MB/s]\n"
          ]
        }
      ]
    },
    {
      "cell_type": "code",
      "source": [
        "class_names = pickle.load(open(path_class_names, \"rb\"))\n",
        "labels = class_names"
      ],
      "metadata": {
        "id": "R8o66wl4Uatm"
      },
      "execution_count": 20,
      "outputs": []
    },
    {
      "cell_type": "code",
      "source": [
        "device = torch.device(\"cuda:0\" if torch.cuda.is_available() else \"cpu\")"
      ],
      "metadata": {
        "id": "A5m2Z96rUSky"
      },
      "execution_count": 21,
      "outputs": []
    },
    {
      "cell_type": "code",
      "source": [
        "model_ft = models.resnet18(pretrained=True)\n",
        "num_ftrs = model_ft.fc.in_features\n",
        "# Here the size of each output sample is set to 2.\n",
        "# Alternatively, it can be generalized to nn.Linear(num_ftrs, len(class_names)).\n",
        "model_ft.fc = nn.Linear(num_ftrs, len(class_names))\n",
        "\n",
        "model_ft = model_ft.to(device)"
      ],
      "metadata": {
        "id": "xi2jrdvQUgSs"
      },
      "execution_count": 22,
      "outputs": []
    },
    {
      "cell_type": "code",
      "source": [
        "model_ft.load_state_dict(copy.deepcopy(torch.load(path_model,device)))"
      ],
      "metadata": {
        "colab": {
          "base_uri": "https://localhost:8080/"
        },
        "id": "JsuoTQpEUYMx",
        "outputId": "bac4c3a8-9284-49f4-fbf4-b9c4229ad5b1"
      },
      "execution_count": 23,
      "outputs": [
        {
          "output_type": "execute_result",
          "data": {
            "text/plain": [
              "<All keys matched successfully>"
            ]
          },
          "metadata": {},
          "execution_count": 23
        }
      ]
    },
    {
      "cell_type": "code",
      "source": [
        "def predict(inp):\n",
        "  inp = Image.fromarray(inp.astype('uint8'), 'RGB')\n",
        "  inp = transforms.ToTensor()(inp).unsqueeze(0)\n",
        "  with torch.no_grad():\n",
        "    prediction = torch.nn.functional.softmax(model_ft(inp)[0], dim=0)\n",
        "  return {labels[i]: float(prediction[i]) for i in range(len(class_names))}"
      ],
      "metadata": {
        "id": "FZTUgPW8b3GZ"
      },
      "execution_count": 24,
      "outputs": []
    },
    {
      "cell_type": "code",
      "source": [
        "inputs = gr.inputs.Image(label=\"Input\")\n",
        "outputs = gr.outputs.Label(num_top_classes=3)\n",
        "gr.Interface(fn=predict, inputs=inputs, outputs=outputs, title=\"butterfly classification demo\", theme=\"dark-peach\", examples=example_inp).launch();"
      ],
      "metadata": {
        "colab": {
          "base_uri": "https://localhost:8080/",
          "height": 594
        },
        "id": "0VuU_cAGb5Qg",
        "outputId": "c0a81590-28a5-4917-ae91-322f1e6eea2c"
      },
      "execution_count": 39,
      "outputs": [
        {
          "output_type": "stream",
          "name": "stdout",
          "text": [
            "Colab notebook detected. To show errors in colab notebook, set `debug=True` in `launch()`\n",
            "Running on public URL: https://11530.gradio.app\n",
            "\n",
            "This share link expires in 72 hours. For free permanent hosting, check out Spaces (https://huggingface.co/spaces)\n"
          ]
        },
        {
          "output_type": "display_data",
          "data": {
            "text/html": [
              "\n",
              "        <iframe\n",
              "            width=\"900\"\n",
              "            height=\"500\"\n",
              "            src=\"https://11530.gradio.app\"\n",
              "            frameborder=\"0\"\n",
              "            allowfullscreen\n",
              "        ></iframe>\n",
              "        "
            ],
            "text/plain": [
              "<IPython.lib.display.IFrame at 0x7fcc12c3ddd0>"
            ]
          },
          "metadata": {}
        }
      ]
    }
  ]
}